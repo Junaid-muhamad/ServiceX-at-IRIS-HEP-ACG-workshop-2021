{
 "cells": [
  {
   "cell_type": "markdown",
   "metadata": {},
   "source": [
    "# What is ServiceX?"
   ]
  },
  {
   "cell_type": "markdown",
   "metadata": {
    "jp-MarkdownHeadingCollapsed": true,
    "slideshow": {
     "slide_type": "slide"
    },
    "tags": []
   },
   "source": [
    "<img src=\"img/logo_servicex.png\" width=150 height=150 />\n",
    "\n",
    "ServiceX is a <span style=\"color:red\">scalable</span> <span style=\"color:blue\">HEP event data</span> <span style=\"color:purple\">extraction</span>, <span style=\"color:orange\">transformation</span> and <span style=\"color:green\">delivery</span> system\n",
    "- <span style=\"color:blue\"> HEP event data</span>: supports various input data formats - ROOT Ntuple (CMS nanoAOD), ATLAS xAOD, future data formats\n",
    "- <span style=\"color:purple\"> Extraction</span>: user-selected column(s) with filtering\n",
    "- <span style=\"color:orange\"> Transformation</span>: transform into various formats - Awkward arrays, Apache Parquet, ROOT Ntuple\n",
    "- <span style=\"color:green\"> Delivery </span>: on-demand delivery to a user or streaming into Analysis System from a remote via Rucio or XRootD\n",
    "- <span style=\"color:red\">Scalable</span>: runs on any Kubernetes cluster, scales up workers if necessary\n",
    "\n",
    "<br>\n",
    "<br>"
   ]
  },
  {
   "cell_type": "markdown",
   "metadata": {},
   "source": [
    "### Example ServiceX workflow\n",
    "\n",
    "<img src=\"img/ServiceX_workflow_2.png\" width=800 />\n",
    "\n",
    "1. A user makes a ServiceX delivery request from Jupyter notebook via a REST interface\n",
    "1. ServiceX backend looks for input datasets and retrieves an input file list\n",
    "1. A relevant code is generated based on the input data format, query in func-adl, and so on\n",
    "1. Transformer pods (workers) are generated to process each file (10 pods at first and scale up if necessary)\n",
    "1. Outputs are streamed into the object store inside the Kubernetes cluster\n",
    "1. Download outputs asynchronously\n",
    "\n",
    "<br>\n",
    "<br>"
   ]
  },
  {
   "cell_type": "markdown",
   "metadata": {
    "jp-MarkdownHeadingCollapsed": true,
    "tags": []
   },
   "source": [
    "### Where is ServiceX?\n",
    "\n",
    "- ServiceX is deployed on Kubernetes cluster \n",
    "    - Enough resource to scale pods \n",
    "    - Preferred to be co-located with a data center for high network bandwidth\n",
    "- Types\n",
    "    - Stand-alone: Secured by own authentication system. Web API is accessible from anywhere.\n",
    "    - Integrated into coffea-casa: Secured by CERN authentication system. Only accessible inside a coffea-casa.\n",
    "- Input data format\n",
    "    - Dedicated ServiceX deployment for each input data format: ROOT ntuple, ATLAS xAOD, CMS Run-1 AOD\n",
    "    - Single deployment for all types of input data is currently under development\n",
    "- Available ServiceX endpoints\n",
    "\n",
    "| Type | Input data format | Location | Endpoint |\n",
    "| :----: | :-----------------: | :--------: | :--------: |\n",
    "| Stand-alone | ATLAS ROOT Ntuple | SSL-River | https://uproot-atlas.servicex.ssl-hep.org/ |\n",
    "| Stand-alone | ATLAS xAOD | SSL-River | https://xaod.servicex.ssl-hep.org/ |\n",
    "| Stand-alone | ATLAS OpenData | SSL-River | https://atlasopendata.servicex.ssl-hep.org/ |\n",
    "| Stand-alone | ATLAS ROOT Ntuple | UC Analysis Facility | https://uproot-atlas.servicex.af.uchicago.edu/ |\n",
    "| Stand-alone | ATLAS xAOD | UC Analysis Facility | https://xaod.servicex.af.uchicago.edu/ |\n",
    "| Coffea-casa | CMS ROOT Ntuple | UNL | https://coffea.casa/ |\n",
    "| Coffea-casa | ATLAS OpenData | UC Analysis Facility | http://coffea.af.uchicago.edu/ |\n",
    "\n",
    "<p style=\"text-align: right;\"> *There are other experimental endpoints </p>\n",
    "\n",
    "<br>\n",
    "<br>"
   ]
  },
  {
   "cell_type": "markdown",
   "metadata": {},
   "source": [
    "# ServiceX Client Library\n",
    "\n",
    "The base library to interact with ServiceX\n",
    "\n",
    "- Makes a request to a ServiceX backend\n",
    "- Monitors the progress of transformation\n",
    "- Download files as soon as they are ready\n",
    "\n",
    "\n",
    "### Prerequisites\n",
    "\n",
    "- Python 3.6 or higher\n",
    "- A `ServiceX` endpoint\n",
    "\n",
    "\n",
    "### Configuration file\n",
    "\n",
    "- Contains endpoint access information\n",
    "- Optionally other information (such as `cache_path`) can be placed\n",
    "\n",
    "```\n",
    "api_endpoints:\n",
    "  - name: <your-endpoint-name>\n",
    "    endpoint: <your-endpoint>\n",
    "    token: <api-token>\n",
    "    type: uproot\n",
    "```\n",
    "\n",
    "\n",
    "### Local data cache\n",
    "\n",
    "- ServiceX requests and returned data are stored in a local temporary directory by default\n"
   ]
  },
  {
   "cell_type": "code",
   "execution_count": 20,
   "metadata": {
    "scrolled": true,
    "slideshow": {
     "slide_type": "slide"
    }
   },
   "outputs": [
    {
     "name": "stdout",
     "output_type": "stream",
     "text": [
      "Overwriting servicex.yaml\n"
     ]
    }
   ],
   "source": [
    "%%writefile servicex.yaml\n",
    "api_endpoints:\n",
    "  - name: opendata_uproot\n",
    "    endpoint: https://atlasopendata.servicex.ssl-hep.org/\n",
    "    type: uproot"
   ]
  },
  {
   "cell_type": "markdown",
   "metadata": {},
   "source": [
    "### ATLAS OpenData"
   ]
  },
  {
   "cell_type": "code",
   "execution_count": 35,
   "metadata": {},
   "outputs": [],
   "source": [
    "from servicex import ServiceXDataset\n",
    "from func_adl_servicex import ServiceXSourceUpROOT"
   ]
  },
  {
   "cell_type": "code",
   "execution_count": 36,
   "metadata": {},
   "outputs": [],
   "source": [
    "dataset_opendata = \"root://eospublic.cern.ch//eos/opendata/atlas/OutreachDatasets/2020-01-22/4lep/MC/mc_345060.ggH125_ZZ4lep.4lep.root\"\n",
    "uproot_transformer_image = \"sslhep/servicex_func_adl_uproot_transformer:develop\""
   ]
  },
  {
   "cell_type": "code",
   "execution_count": 37,
   "metadata": {},
   "outputs": [],
   "source": [
    "sx_dataset = ServiceXDataset(dataset_opendata, image=uproot_transformer_image, backend_name='opendata_uproot')"
   ]
  },
  {
   "cell_type": "code",
   "execution_count": 38,
   "metadata": {},
   "outputs": [],
   "source": [
    "ds = ServiceXSourceUpROOT(sx_dataset, \"mini\")\n",
    "# ds.return_qastle = True"
   ]
  },
  {
   "cell_type": "code",
   "execution_count": 39,
   "metadata": {},
   "outputs": [],
   "source": [
    "data = ds.Select(\"lambda event: {'lep_pt': event.lep_pt, 'lep_eta': event.lep_eta}\") \\\n",
    "    .AsPandasDF('lep_pt').value()"
   ]
  },
  {
   "cell_type": "code",
   "execution_count": 6,
   "metadata": {},
   "outputs": [
    {
     "data": {
      "text/html": [
       "<div>\n",
       "<style scoped>\n",
       "    .dataframe tbody tr th:only-of-type {\n",
       "        vertical-align: middle;\n",
       "    }\n",
       "\n",
       "    .dataframe tbody tr th {\n",
       "        vertical-align: top;\n",
       "    }\n",
       "\n",
       "    .dataframe thead th {\n",
       "        text-align: right;\n",
       "    }\n",
       "</style>\n",
       "<table border=\"1\" class=\"dataframe\">\n",
       "  <thead>\n",
       "    <tr style=\"text-align: right;\">\n",
       "      <th></th>\n",
       "      <th>lep_pt</th>\n",
       "      <th>lep_eta</th>\n",
       "    </tr>\n",
       "  </thead>\n",
       "  <tbody>\n",
       "    <tr>\n",
       "      <th>0</th>\n",
       "      <td>[51905.457, 41248.57, 16397.67, 7471.2275]</td>\n",
       "      <td>[-0.9257092, -0.8236952, -0.48641676, 0.26671788]</td>\n",
       "    </tr>\n",
       "    <tr>\n",
       "      <th>1</th>\n",
       "      <td>[41430.645, 40307.168, 16133.789, 7481.8574]</td>\n",
       "      <td>[-1.2331822, -0.396434, -0.5415077, -0.3021792]</td>\n",
       "    </tr>\n",
       "    <tr>\n",
       "      <th>2</th>\n",
       "      <td>[33646.71, 27313.271, 20035.95, 16472.64]</td>\n",
       "      <td>[-0.03232379, -0.044152576, 0.06701253, 1.8595...</td>\n",
       "    </tr>\n",
       "    <tr>\n",
       "      <th>3</th>\n",
       "      <td>[77118.56, 27845.74, 17726.541, 14714.521]</td>\n",
       "      <td>[0.51476425, 0.8453112, 2.1891582, 0.17971124]</td>\n",
       "    </tr>\n",
       "    <tr>\n",
       "      <th>4</th>\n",
       "      <td>[161909.22, 53367.754, 25596.69, 18864.479]</td>\n",
       "      <td>[-1.0373538, -0.8217277, -1.2618828, 0.12619522]</td>\n",
       "    </tr>\n",
       "    <tr>\n",
       "      <th>...</th>\n",
       "      <td>...</td>\n",
       "      <td>...</td>\n",
       "    </tr>\n",
       "    <tr>\n",
       "      <th>164711</th>\n",
       "      <td>[32143.482, 24158.068, 17203.547, 14358.152]</td>\n",
       "      <td>[-1.0038322, 0.60944843, 0.87633955, 1.0397455]</td>\n",
       "    </tr>\n",
       "    <tr>\n",
       "      <th>164712</th>\n",
       "      <td>[39488.273, 33694.094, 32709.998, 14797.52]</td>\n",
       "      <td>[0.1847904, 0.7994406, -0.4549886, -1.1673094]</td>\n",
       "    </tr>\n",
       "    <tr>\n",
       "      <th>164713</th>\n",
       "      <td>[63284.21, 22707.84, 15635.994, 14873.25]</td>\n",
       "      <td>[0.93559146, 0.18448293, 0.17450815, 2.1288664]</td>\n",
       "    </tr>\n",
       "    <tr>\n",
       "      <th>164714</th>\n",
       "      <td>[52538.805, 40321.457, 25766.85, 19381.92]</td>\n",
       "      <td>[0.8802495, 1.2056149, 1.7011378, 0.85303867]</td>\n",
       "    </tr>\n",
       "    <tr>\n",
       "      <th>164715</th>\n",
       "      <td>[58730.094, 35112.83, 12265.971, 11089.536]</td>\n",
       "      <td>[-1.2041631, -1.7887907, -0.26884404, -0.8279858]</td>\n",
       "    </tr>\n",
       "  </tbody>\n",
       "</table>\n",
       "<p>164716 rows × 2 columns</p>\n",
       "</div>"
      ],
      "text/plain": [
       "                                              lep_pt  \\\n",
       "0         [51905.457, 41248.57, 16397.67, 7471.2275]   \n",
       "1       [41430.645, 40307.168, 16133.789, 7481.8574]   \n",
       "2          [33646.71, 27313.271, 20035.95, 16472.64]   \n",
       "3         [77118.56, 27845.74, 17726.541, 14714.521]   \n",
       "4        [161909.22, 53367.754, 25596.69, 18864.479]   \n",
       "...                                              ...   \n",
       "164711  [32143.482, 24158.068, 17203.547, 14358.152]   \n",
       "164712   [39488.273, 33694.094, 32709.998, 14797.52]   \n",
       "164713     [63284.21, 22707.84, 15635.994, 14873.25]   \n",
       "164714    [52538.805, 40321.457, 25766.85, 19381.92]   \n",
       "164715   [58730.094, 35112.83, 12265.971, 11089.536]   \n",
       "\n",
       "                                                  lep_eta  \n",
       "0       [-0.9257092, -0.8236952, -0.48641676, 0.26671788]  \n",
       "1         [-1.2331822, -0.396434, -0.5415077, -0.3021792]  \n",
       "2       [-0.03232379, -0.044152576, 0.06701253, 1.8595...  \n",
       "3          [0.51476425, 0.8453112, 2.1891582, 0.17971124]  \n",
       "4        [-1.0373538, -0.8217277, -1.2618828, 0.12619522]  \n",
       "...                                                   ...  \n",
       "164711    [-1.0038322, 0.60944843, 0.87633955, 1.0397455]  \n",
       "164712     [0.1847904, 0.7994406, -0.4549886, -1.1673094]  \n",
       "164713    [0.93559146, 0.18448293, 0.17450815, 2.1288664]  \n",
       "164714      [0.8802495, 1.2056149, 1.7011378, 0.85303867]  \n",
       "164715  [-1.2041631, -1.7887907, -0.26884404, -0.8279858]  \n",
       "\n",
       "[164716 rows x 2 columns]"
      ]
     },
     "execution_count": 6,
     "metadata": {},
     "output_type": "execute_result"
    }
   ],
   "source": [
    "data"
   ]
  },
  {
   "cell_type": "markdown",
   "metadata": {},
   "source": [
    "# TCut library"
   ]
  },
  {
   "cell_type": "markdown",
   "metadata": {},
   "source": [
    "[TCut library](https://github.com/ssl-hep/TCutToQastleWrapper)"
   ]
  },
  {
   "cell_type": "code",
   "execution_count": 8,
   "metadata": {},
   "outputs": [],
   "source": [
    "import tcut_to_qastle"
   ]
  },
  {
   "cell_type": "code",
   "execution_count": 13,
   "metadata": {},
   "outputs": [],
   "source": [
    "query = tcut_to_qastle.translate(\"mini\", \"lep_pt\",\"lep_eta<1\")"
   ]
  },
  {
   "cell_type": "code",
   "execution_count": 14,
   "metadata": {},
   "outputs": [
    {
     "name": "stdout",
     "output_type": "stream",
     "text": [
      "(Select (Where (call EventDataset 'ServiceXDatasetSource' 'mini') (lambda (list event) (< (attr event 'lep_eta') 1))) (lambda (list event) (dict (list 'lep_pt') (list (attr event 'lep_pt')))))\n"
     ]
    }
   ],
   "source": [
    "print(query)"
   ]
  },
  {
   "cell_type": "code",
   "execution_count": null,
   "metadata": {},
   "outputs": [],
   "source": [
    "r = sx_dataset.get_data_pandas_df(query)"
   ]
  },
  {
   "cell_type": "code",
   "execution_count": 12,
   "metadata": {},
   "outputs": [
    {
     "data": {
      "text/html": [
       "<div>\n",
       "<style scoped>\n",
       "    .dataframe tbody tr th:only-of-type {\n",
       "        vertical-align: middle;\n",
       "    }\n",
       "\n",
       "    .dataframe tbody tr th {\n",
       "        vertical-align: top;\n",
       "    }\n",
       "\n",
       "    .dataframe thead th {\n",
       "        text-align: right;\n",
       "    }\n",
       "</style>\n",
       "<table border=\"1\" class=\"dataframe\">\n",
       "  <thead>\n",
       "    <tr style=\"text-align: right;\">\n",
       "      <th></th>\n",
       "      <th>lep_pt</th>\n",
       "    </tr>\n",
       "  </thead>\n",
       "  <tbody>\n",
       "    <tr>\n",
       "      <th>0</th>\n",
       "      <td>[51905.457, 41248.57, 16397.67, 7471.2275]</td>\n",
       "    </tr>\n",
       "    <tr>\n",
       "      <th>1</th>\n",
       "      <td>[41430.645, 40307.168, 16133.789, 7481.8574]</td>\n",
       "    </tr>\n",
       "    <tr>\n",
       "      <th>2</th>\n",
       "      <td>[33646.71, 27313.271, 20035.95, 16472.64]</td>\n",
       "    </tr>\n",
       "    <tr>\n",
       "      <th>3</th>\n",
       "      <td>[77118.56, 27845.74, 17726.541, 14714.521]</td>\n",
       "    </tr>\n",
       "    <tr>\n",
       "      <th>4</th>\n",
       "      <td>[161909.22, 53367.754, 25596.69, 18864.479]</td>\n",
       "    </tr>\n",
       "    <tr>\n",
       "      <th>...</th>\n",
       "      <td>...</td>\n",
       "    </tr>\n",
       "    <tr>\n",
       "      <th>164711</th>\n",
       "      <td>[32143.482, 24158.068, 17203.547, 14358.152]</td>\n",
       "    </tr>\n",
       "    <tr>\n",
       "      <th>164712</th>\n",
       "      <td>[39488.273, 33694.094, 32709.998, 14797.52]</td>\n",
       "    </tr>\n",
       "    <tr>\n",
       "      <th>164713</th>\n",
       "      <td>[63284.21, 22707.84, 15635.994, 14873.25]</td>\n",
       "    </tr>\n",
       "    <tr>\n",
       "      <th>164714</th>\n",
       "      <td>[52538.805, 40321.457, 25766.85, 19381.92]</td>\n",
       "    </tr>\n",
       "    <tr>\n",
       "      <th>164715</th>\n",
       "      <td>[58730.094, 35112.83, 12265.971, 11089.536]</td>\n",
       "    </tr>\n",
       "  </tbody>\n",
       "</table>\n",
       "<p>164716 rows × 1 columns</p>\n",
       "</div>"
      ],
      "text/plain": [
       "                                              lep_pt\n",
       "0         [51905.457, 41248.57, 16397.67, 7471.2275]\n",
       "1       [41430.645, 40307.168, 16133.789, 7481.8574]\n",
       "2          [33646.71, 27313.271, 20035.95, 16472.64]\n",
       "3         [77118.56, 27845.74, 17726.541, 14714.521]\n",
       "4        [161909.22, 53367.754, 25596.69, 18864.479]\n",
       "...                                              ...\n",
       "164711  [32143.482, 24158.068, 17203.547, 14358.152]\n",
       "164712   [39488.273, 33694.094, 32709.998, 14797.52]\n",
       "164713     [63284.21, 22707.84, 15635.994, 14873.25]\n",
       "164714    [52538.805, 40321.457, 25766.85, 19381.92]\n",
       "164715   [58730.094, 35112.83, 12265.971, 11089.536]\n",
       "\n",
       "[164716 rows x 1 columns]"
      ]
     },
     "execution_count": 12,
     "metadata": {},
     "output_type": "execute_result"
    }
   ],
   "source": [
    "r"
   ]
  },
  {
   "cell_type": "code",
   "execution_count": null,
   "metadata": {},
   "outputs": [],
   "source": []
  },
  {
   "cell_type": "markdown",
   "metadata": {},
   "source": [
    "# DataBinder"
   ]
  },
  {
   "cell_type": "code",
   "execution_count": 21,
   "metadata": {},
   "outputs": [
    {
     "name": "stdout",
     "output_type": "stream",
     "text": [
      "Overwriting config_databinder_opendata.yaml\n"
     ]
    }
   ],
   "source": [
    "%%writefile config_databinder_opendata.yaml\n",
    "General:\n",
    "  ServiceXBackendName: opendata_uproot\n",
    "  OutputDirectory: ServiceXData_atlasopendata\n",
    "  OutputFormat: root\n",
    "  ZipROOTColumns: True\n",
    "  WriteOutputDict: out_atlasopendata  \n",
    "\n",
    "Sample:\n",
    "  - Name: data\n",
    "    XRootDFiles: root://eospublic.cern.ch//eos/opendata/atlas/OutreachDatasets/2020-01-22/4lep/Data/data_A.4lep.root,\n",
    "            root://eospublic.cern.ch//eos/opendata/atlas/OutreachDatasets/2020-01-22/4lep/Data/data_B.4lep.root,\n",
    "            root://eospublic.cern.ch//eos/opendata/atlas/OutreachDatasets/2020-01-22/4lep/Data/data_C.4lep.root,\n",
    "            root://eospublic.cern.ch//eos/opendata/atlas/OutreachDatasets/2020-01-22/4lep/Data/data_D.4lep.root\n",
    "    Tree: mini\n",
    "    FuncADL: \"Select(lambda event: {'lep_pt': event.lep_pt, 'lep_eta': event.lep_eta})\"\n",
    "  - Name: ggH125_ZZ4lep\n",
    "    XRootDFiles: root://eospublic.cern.ch//eos/opendata/atlas/OutreachDatasets/2020-01-22/4lep/MC/mc_345060.ggH125_ZZ4lep.4lep.root\n",
    "    Tree: mini\n",
    "    FuncADL: \"Select(lambda event: {'lep_pt': event.lep_pt, 'lep_eta': event.lep_eta})\""
   ]
  },
  {
   "cell_type": "code",
   "execution_count": 1,
   "metadata": {},
   "outputs": [
    {
     "name": "stderr",
     "output_type": "stream",
     "text": [
      "INFO - opening config file: config_databinder_opendata.yaml\n"
     ]
    }
   ],
   "source": [
    "from servicex_databinder import DataBinder\n",
    "sx_db = DataBinder('config_databinder_opendata.yaml')"
   ]
  },
  {
   "cell_type": "code",
   "execution_count": 2,
   "metadata": {},
   "outputs": [
    {
     "name": "stderr",
     "output_type": "stream",
     "text": [
      "INFO - retrieving data via opendata_uproot ServiceX..\n",
      "INFO - complete ServiceX data delivery..\n",
      "INFO - post-processing..\n",
      "INFO - done.\n"
     ]
    }
   ],
   "source": [
    "out = sx_db.deliver()"
   ]
  },
  {
   "cell_type": "code",
   "execution_count": 3,
   "metadata": {},
   "outputs": [
    {
     "data": {
      "text/plain": [
       "{'data': {'mini': ['/Users/kchoi/Work/UTAustin/Computing/ServiceX/ServiceX-at-IRIS-HEP-ACG-workshop-2021/ServiceXData_atlasopendata/data/mini/root___eospublic.cern.ch__eos_opendata_atlas_OutreachDatasets_2020-01-22_4lep_Data_data_C.4lep.root.parquet',\n",
       "   '/Users/kchoi/Work/UTAustin/Computing/ServiceX/ServiceX-at-IRIS-HEP-ACG-workshop-2021/ServiceXData_atlasopendata/data/mini/root___eospublic.cern.ch__eos_opendata_atlas_OutreachDatasets_2020-01-22_4lep_Data_data_B.4lep.root.parquet',\n",
       "   '/Users/kchoi/Work/UTAustin/Computing/ServiceX/ServiceX-at-IRIS-HEP-ACG-workshop-2021/ServiceXData_atlasopendata/data/mini/root___eospublic.cern.ch__eos_opendata_atlas_OutreachDatasets_2020-01-22_4lep_Data_data_D.4lep.root.parquet',\n",
       "   '/Users/kchoi/Work/UTAustin/Computing/ServiceX/ServiceX-at-IRIS-HEP-ACG-workshop-2021/ServiceXData_atlasopendata/data/mini/root___eospublic.cern.ch__eos_opendata_atlas_OutreachDatasets_2020-01-22_4lep_Data_data_A.4lep.root.parquet']},\n",
       " 'ggH125_ZZ4lep': {'mini': ['/Users/kchoi/Work/UTAustin/Computing/ServiceX/ServiceX-at-IRIS-HEP-ACG-workshop-2021/ServiceXData_atlasopendata/ggH125_ZZ4lep/mini/root___eospublic.cern.ch__eos_opendata_atlas_OutreachDatasets_2020-01-22_4lep_MC_mc_345060.ggH125_ZZ4lep.4lep.root.parquet']}}"
      ]
     },
     "execution_count": 3,
     "metadata": {},
     "output_type": "execute_result"
    }
   ],
   "source": [
    "out"
   ]
  },
  {
   "cell_type": "code",
   "execution_count": null,
   "metadata": {},
   "outputs": [],
   "source": []
  },
  {
   "cell_type": "code",
   "execution_count": null,
   "metadata": {},
   "outputs": [],
   "source": []
  },
  {
   "cell_type": "code",
   "execution_count": null,
   "metadata": {},
   "outputs": [],
   "source": []
  },
  {
   "cell_type": "markdown",
   "metadata": {},
   "source": [
    "# Coffea interface"
   ]
  },
  {
   "cell_type": "code",
   "execution_count": null,
   "metadata": {},
   "outputs": [],
   "source": []
  },
  {
   "cell_type": "markdown",
   "metadata": {},
   "source": [
    "# Useful links\n",
    "\n",
    "- [ServiceX readthedoc](https://servicex.readthedocs.io/en/latest/)\n",
    "- [Github - ServiceX Frontend](https://github.com/ssl-hep/ServiceX_frontend)"
   ]
  }
 ],
 "metadata": {
  "kernelspec": {
   "display_name": "Python 3",
   "language": "python",
   "name": "python3"
  },
  "language_info": {
   "codemirror_mode": {
    "name": "ipython",
    "version": 3
   },
   "file_extension": ".py",
   "mimetype": "text/x-python",
   "name": "python",
   "nbconvert_exporter": "python",
   "pygments_lexer": "ipython3",
   "version": "3.7.4"
  }
 },
 "nbformat": 4,
 "nbformat_minor": 4
}
