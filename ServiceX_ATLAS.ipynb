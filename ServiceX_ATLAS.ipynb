{
 "cells": [
  {
   "cell_type": "markdown",
   "metadata": {
    "slideshow": {
     "slide_type": "slide"
    }
   },
   "source": [
    "# ServiceX endpoints for ATLAS\n",
    "\n",
    "\n",
    "\n",
    "| Type | Collaboration | Input data format | Location | Endpoint | Purpose |\n",
    "| :----: |:----: | :-----------------: | :--------: | :--------: | :-- |\n",
    "| Stand-alone | ATLAS | ROOT Ntuple | UC Analysis Facility | https://uproot-atlas.servicex.af.uchicago.edu/ | Production |\n",
    "| Stand-alone | ATLAS |xAOD | UC Analysis Facility | https://xaod.servicex.af.uchicago.edu/ | Production |\n",
    "| Stand-alone | ATLAS| ROOT Ntuple | SSL-River | https://uproot-atlas.servicex.ssl-hep.org/ | Development |\n",
    "| Stand-alone | ATLAS |xAOD | SSL-River | https://xaod.servicex.ssl-hep.org/ | Development |\n",
    "\n",
    "\n",
    "<br>\n",
    "<br>"
   ]
  },
  {
   "cell_type": "markdown",
   "metadata": {
    "slideshow": {
     "slide_type": "slide"
    }
   },
   "source": [
    "# Example analysis workflows with ServiceX\n",
    "\n",
    "- Uproot ServiceX + ROOT-based Analysis\n",
    "- Uproot ServiceX + coffea analysis\n",
    "- Uproot ServiceX + TRExFitter"
   ]
  },
  {
   "cell_type": "markdown",
   "metadata": {
    "slideshow": {
     "slide_type": "slide"
    }
   },
   "source": [
    "## Uproot ServiceX + ROOT-based Analysis\n",
    "\n",
    "- Story\n",
    "    - Analysis ROOT ntuples on the grid - too large to store locally\n",
    "    - Analysis group prefers to use the existing framework\n",
    "- Workflow with ServiceX\n",
    "    - ServiceX DataBinder to deliver branches used in the subsequent analysis\n",
    "    - Preselection can be applied to further reduce the delivered ROOT ntuples\n",
    "    - Only modified or added requests will be submitted to ServiceX\n",
    "    - Output directory is dynamically synchronized with the configuration file\n",
    "    - A ROOT file contains requested trees and branches\n",
    "\n",
    "<br>"
   ]
  },
  {
   "cell_type": "markdown",
   "metadata": {},
   "source": [
    "### Hands-on"
   ]
  },
  {
   "cell_type": "code",
   "execution_count": null,
   "metadata": {
    "slideshow": {
     "slide_type": "slide"
    }
   },
   "outputs": [],
   "source": [
    "%%writefile config_databinder_uproot.yaml\n",
    "General:\n",
    "  ServiceXBackendName: uproot\n",
    "  OutputDirectory: ServiceXData_uproot\n",
    "  OutputFormat: root\n",
    "  ZipROOTColumns: True\n",
    "  WriteOutputDict: out_uproot\n",
    "  \n",
    "Sample:\n",
    "  - Name: ttH\n",
    "    RucioDID: user.mgeyik:user.mgeyik.mc16_13TeV.346344.PhPy8EG_ttH125_1l.SGTOP1.e7148_a875_r9364_p4346.ll.b_out.root, \n",
    "             user.mgeyik:user.mgeyik.mc16_13TeV.346344.PhPy8EG_ttH125_1l.SGTOP1.e7148_a875_r10201_p4346.ll.d_out.root\n",
    "    Tree: nominal\n",
    "    FuncADL: \"Select(lambda event: {'jet_e': event.jet_e, 'jet_pt': event.jet_pt, 'met_met': event.met_met})\"\n",
    "  - Name: ttH\n",
    "    RucioDID: user.mgeyik:user.mgeyik.mc16_13TeV.346344.PhPy8EG_ttH125_1l.SGTOP1.e7148_a875_r9364_p4346.ll.b_out.root, \n",
    "             user.mgeyik:user.mgeyik.mc16_13TeV.346344.PhPy8EG_ttH125_1l.SGTOP1.e7148_a875_r10201_p4346.ll.d_out.root\n",
    "    Tree: sumWeights\n",
    "    FuncADL: \"Select(lambda event: {'dsid': event.dsid, 'totalEventsWeighted': event.totalEventsWeighted})\"\n",
    "  - Name: ttW\n",
    "    RucioDID: user.mgeyik:user.mgeyik.mc16_13TeV.410155.aMCPy8EG_ttW.SGTOP1.e5070_s3126_r10724_p4346.ll.b_out.root\n",
    "    Tree: nominal\n",
    "    Filter: \"\"\n",
    "    Columns: jet_e, jet_pt"
   ]
  },
  {
   "cell_type": "code",
   "execution_count": null,
   "metadata": {
    "slideshow": {
     "slide_type": "slide"
    }
   },
   "outputs": [],
   "source": [
    "from servicex_databinder import DataBinder\n",
    "sx_db = DataBinder('config_databinder_uproot.yaml')"
   ]
  },
  {
   "cell_type": "code",
   "execution_count": null,
   "metadata": {
    "slideshow": {
     "slide_type": "slide"
    }
   },
   "outputs": [],
   "source": [
    "out = sx_db.deliver()"
   ]
  },
  {
   "cell_type": "code",
   "execution_count": null,
   "metadata": {
    "scrolled": true,
    "slideshow": {
     "slide_type": "slide"
    }
   },
   "outputs": [],
   "source": [
    "out"
   ]
  },
  {
   "cell_type": "code",
   "execution_count": null,
   "metadata": {},
   "outputs": [],
   "source": [
    "import uproot\n",
    "out_file = uproot.open(out['ttH'][0])\n",
    "print(f\"Trees: {out_file.keys()}\")\n",
    "print(f\"Branches in the tree 'nominal': {out_file['nominal'].keys()}\")"
   ]
  },
  {
   "cell_type": "markdown",
   "metadata": {},
   "source": [
    "<br>\n",
    "<br>"
   ]
  },
  {
   "cell_type": "markdown",
   "metadata": {},
   "source": [
    "## Uproot ServiceX + coffea analysis\n",
    "\n",
    "- Story\n",
    "    - Analysis ROOT ntuples on the grid - too large to store locally\n",
    "    - Analysis team is interested in doing analysis in python ecosystem, but wants to use the familiar statistical tool such as TRExFitter\n",
    "    \n",
    "- Workflow with ServiceX\n",
    "    - ServiceX DataBinder to deliver branches used in the subsequent analysis\n",
    "    - The same procedure but deliver outputs in the format of parquet, which can be consumed by coffea\n",
    "\n",
    "- ServiceX from coffea\n",
    "    - ServiceX can be also directly accessible from coffea as shown by Alex Held ([notebook](https://github.com/iris-hep/analysis-grand-challenge/blob/main/workshops/agctools2021/HZZ_analysis_pipeline/HZZ_analysis_pipeline.ipynb))\n",
    "    - More efficient since both ServiceX data delivery and coffea analysis are done asynchronously\n",
    "\n",
    "<br>"
   ]
  },
  {
   "cell_type": "markdown",
   "metadata": {},
   "source": [
    "### Hands-on"
   ]
  },
  {
   "cell_type": "code",
   "execution_count": null,
   "metadata": {},
   "outputs": [],
   "source": [
    "%%writefile config_databinder_uproot.yaml\n",
    "General:\n",
    "  ServiceXBackendName: uproot\n",
    "  OutputDirectory: ServiceXData_uproot\n",
    "  OutputFormat: parquet\n",
    "  WriteOutputDict: out_uproot\n",
    "  IgnoreServiceXCache: False\n",
    "  \n",
    "Sample:\n",
    "  - Name: ttH\n",
    "    RucioDID: user.mgeyik:user.mgeyik.mc16_13TeV.346344.PhPy8EG_ttH125_1l.SGTOP1.e7148_a875_r9364_p4346.ll.b_out.root, \n",
    "             user.mgeyik:user.mgeyik.mc16_13TeV.346344.PhPy8EG_ttH125_1l.SGTOP1.e7148_a875_r10201_p4346.ll.d_out.root\n",
    "    Tree: nominal\n",
    "    FuncADL: \"Select(lambda event: {'jet_e': event.jet_e, 'jet_pt': event.jet_pt, 'met_met': event.met_met})\"\n",
    "  - Name: ttH\n",
    "    RucioDID: user.mgeyik:user.mgeyik.mc16_13TeV.346344.PhPy8EG_ttH125_1l.SGTOP1.e7148_a875_r9364_p4346.ll.b_out.root, \n",
    "             user.mgeyik:user.mgeyik.mc16_13TeV.346344.PhPy8EG_ttH125_1l.SGTOP1.e7148_a875_r10201_p4346.ll.d_out.root\n",
    "    Tree: sumWeights\n",
    "    FuncADL: \"Select(lambda event: {'dsid': event.dsid, 'totalEventsWeighted': event.totalEventsWeighted})\"\n",
    "  - Name: ttW\n",
    "    RucioDID: user.mgeyik:user.mgeyik.mc16_13TeV.410155.aMCPy8EG_ttW.SGTOP1.e5070_s3126_r10724_p4346.ll.b_out.root\n",
    "    Tree: nominal\n",
    "    Filter: \"\"\n",
    "    Columns: jet_e, jet_pt"
   ]
  },
  {
   "cell_type": "code",
   "execution_count": null,
   "metadata": {},
   "outputs": [],
   "source": [
    "from servicex_databinder import DataBinder\n",
    "sx_db = DataBinder('config_databinder_uproot.yaml')"
   ]
  },
  {
   "cell_type": "code",
   "execution_count": null,
   "metadata": {},
   "outputs": [],
   "source": [
    "out = sx_db.deliver()"
   ]
  },
  {
   "cell_type": "markdown",
   "metadata": {},
   "source": [
    "<br>\n",
    "<br>"
   ]
  },
  {
   "cell_type": "markdown",
   "metadata": {},
   "source": [
    "## Uproot ServiceX + TRExFitter\n",
    "\n",
    "- Story\n",
    "    - Analysis ROOT ntuples on the grid - too large to store locally\n",
    "    - ROOT ntuples are prepared to be directly read by TRExFitter\n",
    "\n",
    "- TRExFitter\n",
    "    - Popular tool for statistical inference via profile likelihood fits\n",
    "    - User provides \n",
    "        - inputs in the format of ROOT ntuples or ROOT histograms \n",
    "        - a configuration file to steer the framework\n",
    "    \n",
    "- Workflow with `servicex-for-trexfitter`\n",
    "    - The package analyzes your TRExFitter configuration file, and delivers only necessary branches and entries to produce all histograms defined in your TRExFitter configuration file."
   ]
  },
  {
   "cell_type": "markdown",
   "metadata": {},
   "source": [
    "\n",
    "### Installation\n",
    "\n",
    "```bash\n",
    "pip install servicex-for-trexfitter\n",
    "```\n",
    "\n",
    "### Prepare `TRExFitter` configuration file\n",
    "\n",
    "The followings are the settings needed for the workflow using `servicex-for-trexfitter`:\n",
    "\n",
    "##### `Job` block settings\n",
    "\n",
    "- `NtuplePaths: <PATH>` \n",
    "    - The path where input root files are stored. \n",
    "    - Write permission is required as ServiceX delivers root ntuples to the subdirectory `servicex` of this path.\n",
    "\n",
    "##### `Sample` block settings\n",
    "\n",
    "- `GridDID: <Rucio DID>`\n",
    "    - Add option `GridDID` for the `Sample` using ServiceX for delivery.     \n",
    "    - Both scope and name for `GridDID`, e.g., `user.kchoi:user.kchoi.WZana_WZ`.\n",
    "    - Sample can have multiple DIDs: e.g., `user.kchoi:user.kchoi.WZana_WZ_mc16a`, `user.kchoi:user.kchoi.WZana_WZ_mc16d`, `user.kchoi:user.kchoi.WZana_WZ_mc16e`\n",
    "    - `Sample` without an option `GridDID` is treated as a typical Sample, which reads ntuple files from local path.\n",
    "- `NtupleFile: servicex/<SAMPLE NAME>`    \n",
    "    - This option is required only for the Samples with option `GridDID`. Other Samples can use any option valid for option NTUP.\n",
    "    - `servicex-for-trexfitter` delivers one `ROOT` file per `Sample` with the same name as the `Sample` name.\n",
    "\n",
    "\n",
    "Here is a side-by-side comparsion of example configuration files:\n",
    "\n",
    "`servicex-for-trexfitter` | Default\n",
    ":--------:|:------:\n",
    "![](img/config_servicex_2.png) | ![](img/config_trexfitter_2.png)\n",
    "\n",
    "\n",
    "### Usage\n",
    "\n",
    "#### Deliver `ROOT` ntuples using `servicex-for-trexfitter`\n",
    "\n",
    "```python\n",
    "from servicex_for_trexfitter import ServiceXTRExFitter\n",
    "sx_trex = ServiceXTRExFitter(\"<TRExFitter configuration file>\")\n",
    "sx_trex.get_ntuples()\n",
    "```\n",
    "\n",
    "Once you load the package, you can define an instance with an argument of `TRExFitter` configuration file.\n",
    "You can then ask for delivery of `ROOT` ntuples.\n",
    "It will initiate `ServiceX` transformation(s) based on your `TRExFitter` configuration, and deliver `ROOT` ntuples to the path you specified at `Job/NtuplePath`.\n",
    "\n",
    "#### Local data cache\n",
    "\n",
    "`ServiceX` provides the feature that caches your queries and data into a local temporary directory.\n",
    "Therefore, whenever you make further changes to the `TRExFitter` configuration file, `servicex-for-trexfitter` creates data delivery requests only for the updated parts.\n",
    "\n",
    "#### Compatible TRExFitter framework\n",
    "\n",
    "To run the subsequent steps of `TRExFitter` with the `ROOT` ntuples that `servicex-for-trexfitter` delivered, you need to checkout the branch `feat/servicex-integration` of `TRExFitter` framework.\n",
    "Otherwise, `TRExFitter` will complain about the unknown options.\n",
    "The feature branch will be merged into master in the near future.\n",
    "\n",
    "Compatible `servicex-for-trexfitter` versions:\n",
    "\n",
    "|TRExFitter branch/commit | `servicex-for-trexfitter` version |\n",
    "|:--------:|:------:|\n",
    "| [`feat/servicex-integration` / `d1f57d8e`](https://gitlab.cern.ch/TRExStats/TRExFitter/-/tree/d1f57d8ecb1b0c0be0b3aaf1d6c81b6ff50f22d9) | [v0.10.0](https://github.com/kyungeonchoi/ServiceXforTRExFitter/releases/tag/v0.10.0)  |\n",
    "| [`feat/servicex-integration` / `abfe0cc3`](https://gitlab.cern.ch/TRExStats/TRExFitter/-/tree/abfe0cc360bc43c49c1155380d14024a7f64c76f) | [v0.9.1](https://github.com/kyungeonchoi/ServiceXforTRExFitter/releases/tag/v0.9.1)   |\n",
    "\n",
    "### Caveats\n",
    "\n",
    "#### Limited support for `Selection` expression\n",
    "\n",
    "`ServiceX` utilizes [`func-adl`](https://github.com/iris-hep/func_adl), a python-based declarative analysis description language, to filter events and request branches from the input `ROOT` ntuple.\n",
    "Since `TRExFitter` uses `TTreeForumla` for `TTree` selections, the python package [`tcut-to-qastle`](https://github.com/ssl-hep/TCutToQastleWrapper) is written to translate `TTreeFormula` expression into `func-adl`.\n",
    "\n",
    "Supported expressions:\n",
    "\n",
    "- Arithmetic operators: `+, -, *, /`\n",
    "- Logical operators: `!, &&, ||`\n",
    "- Relational and comparison operators: `==, !=, >, <, >=, <=`\n",
    "- Mathematical function: `sqrt`\n",
    "- Ternary operator: `(A?B:C)` - has to be enclosed in parentheses\n",
    "\n",
    "Unsupported expressions:\n",
    "\n",
    "- Special `ROOT` functions such as `Entry$, Sum$(formula)`\n",
    "\n",
    "### Documentation\n",
    "[ServiceX for TRExFitter](https://trexfitter-docs.web.cern.ch/trexfitter-docs/interfacing_tools/servicex/)"
   ]
  },
  {
   "cell_type": "markdown",
   "metadata": {},
   "source": [
    "### Hands-on"
   ]
  },
  {
   "cell_type": "code",
   "execution_count": null,
   "metadata": {},
   "outputs": [],
   "source": [
    "from servicex_for_trexfitter import ServiceXTRExFitter"
   ]
  },
  {
   "cell_type": "code",
   "execution_count": null,
   "metadata": {},
   "outputs": [],
   "source": [
    "!cat config/example.config"
   ]
  },
  {
   "cell_type": "code",
   "execution_count": null,
   "metadata": {},
   "outputs": [],
   "source": [
    "sx_trex = ServiceXTRExFitter(\"config/example.config\")"
   ]
  },
  {
   "cell_type": "code",
   "execution_count": null,
   "metadata": {},
   "outputs": [],
   "source": [
    "sx_trex.get_ntuples()"
   ]
  },
  {
   "cell_type": "code",
   "execution_count": null,
   "metadata": {},
   "outputs": [],
   "source": [
    "!ls example/servicex"
   ]
  },
  {
   "cell_type": "code",
   "execution_count": null,
   "metadata": {},
   "outputs": [],
   "source": [
    "import uproot\n",
    "out_file = uproot.open('example/servicex/ttW.root')\n",
    "print(f\"Trees in ttH sample: \\n{out_file.keys()}\\n\")\n",
    "print(f\"Branches in nominal tree: \\n{out_file['nominal'].items()}\")"
   ]
  }
 ],
 "metadata": {
  "kernelspec": {
   "display_name": "Python 3",
   "language": "python",
   "name": "python3"
  },
  "language_info": {
   "codemirror_mode": {
    "name": "ipython",
    "version": 3
   },
   "file_extension": ".py",
   "mimetype": "text/x-python",
   "name": "python",
   "nbconvert_exporter": "python",
   "pygments_lexer": "ipython3",
   "version": "3.7.4"
  }
 },
 "nbformat": 4,
 "nbformat_minor": 2
}
